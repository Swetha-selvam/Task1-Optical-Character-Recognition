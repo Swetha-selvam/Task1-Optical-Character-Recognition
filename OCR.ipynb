{
 "cells": [
  {
   "cell_type": "markdown",
   "id": "597ca8a1",
   "metadata": {},
   "source": [
    "GRIPJuly21"
   ]
  },
  {
   "cell_type": "markdown",
   "id": "c5acf469",
   "metadata": {},
   "source": [
    "# S.SWETHA\n",
    "IOT and Computer Vision Intern"
   ]
  },
  {
   "cell_type": "markdown",
   "id": "65d2ab24",
   "metadata": {},
   "source": [
    "# THE SPARKS FOUNDATION"
   ]
  },
  {
   "cell_type": "markdown",
   "id": "811269b1",
   "metadata": {},
   "source": [
    "# TASK 1 : OPTICAL CHARACTER RECOGNITION "
   ]
  },
  {
   "cell_type": "markdown",
   "id": "b41c8dea",
   "metadata": {},
   "source": [
    "Optical Character Recognition detects a character, words, digits in a printed image or handwritten image using Tesseract-OCR. It boxes each character or words and print the data above the box in the image with respect to the function."
   ]
  },
  {
   "cell_type": "markdown",
   "id": "7f35508e",
   "metadata": {},
   "source": [
    "# Importing Libraries"
   ]
  },
  {
   "cell_type": "code",
   "execution_count": 9,
   "id": "878bfed1",
   "metadata": {},
   "outputs": [],
   "source": [
    "import cv2\n",
    "import pytesseract\n",
    "pytesseract.pytesseract.tesseract_cmd=r'C:\\\\Program Files\\\\Tesseract-OCR\\\\tesseract.exe'"
   ]
  },
  {
   "cell_type": "markdown",
   "id": "e0a074ff",
   "metadata": {},
   "source": [
    "# Detecting Words"
   ]
  },
  {
   "cell_type": "code",
   "execution_count": 10,
   "id": "3c93d795",
   "metadata": {},
   "outputs": [
    {
     "name": "stdout",
     "output_type": "stream",
     "text": [
      "I do not try\n",
      "to be better\n",
      "than anyone else.\n",
      "I only try to be\n",
      "\n",
      "better than\n",
      "myself.\n",
      "\n",
      "-Dan Jansen\n",
      "\f",
      "\n"
     ]
    },
    {
     "data": {
      "text/plain": [
       "-1"
      ]
     },
     "execution_count": 10,
     "metadata": {},
     "output_type": "execute_result"
    }
   ],
   "source": [
    "img=cv2.imread('quotes.png')\n",
    "img=cv2.cvtColor(img,cv2.COLOR_BGR2RGB)\n",
    "print(pytesseract.image_to_string(img))\n",
    "hgt,wth,_=img.shape\n",
    "boxes=pytesseract.image_to_data(img)\n",
    "for x,b in enumerate(boxes.splitlines()):\n",
    "    if x!=0:\n",
    "        b=b.split()\n",
    "        if len(b)==12:\n",
    "            x,y,w,h=int(b[6]),int(b[7]),int(b[8]),int(b[9])\n",
    "            cv2.rectangle(img,(x,y),(w+x,h+y),(0,0,255),1)\n",
    "            cv2.putText(img,b[11],(x,y),cv2.FONT_HERSHEY_COMPLEX,1,(50,50,255),2)\n",
    "cv2.imshow(\"Text Detection\",img)\n",
    "cv2.waitKey(0)"
   ]
  },
  {
   "cell_type": "markdown",
   "id": "e0892fdf",
   "metadata": {},
   "source": [
    "# Detecting Characters"
   ]
  },
  {
   "cell_type": "code",
   "execution_count": 11,
   "id": "a1b120cf",
   "metadata": {},
   "outputs": [
    {
     "data": {
      "text/plain": [
       "-1"
      ]
     },
     "execution_count": 11,
     "metadata": {},
     "output_type": "execute_result"
    }
   ],
   "source": [
    "img=cv2.imread('quotes.png')\n",
    "img=cv2.cvtColor(img,cv2.COLOR_BGR2RGB)\n",
    "hgt,wth,_=img.shape\n",
    "boxes=pytesseract.image_to_boxes(img)\n",
    "for b in boxes.splitlines():\n",
    "    b=b.split()\n",
    "    x,y,w,h=int(b[1]),int(b[2]),int(b[3]),int(b[4])\n",
    "    cv2.rectangle(img,(x,hgt-y),(w,hgt-h),(0,0,255),1)\n",
    "    cv2.putText(img,b[0],(x,hgt-y+25),cv2.FONT_HERSHEY_COMPLEX,1,(50,50,255),2)\n",
    "cv2.imshow(\"Character Detection\",img)\n",
    "cv2.waitKey(0)"
   ]
  },
  {
   "cell_type": "markdown",
   "id": "a816ac91",
   "metadata": {},
   "source": [
    "# Digits Detection"
   ]
  },
  {
   "cell_type": "code",
   "execution_count": 12,
   "id": "d4c85348",
   "metadata": {},
   "outputs": [
    {
     "data": {
      "text/plain": [
       "-1"
      ]
     },
     "execution_count": 12,
     "metadata": {},
     "output_type": "execute_result"
    }
   ],
   "source": [
    "img=cv2.imread('digit.png')\n",
    "img=cv2.cvtColor(img,cv2.COLOR_BGR2RGB)\n",
    "hgt,wth,_=img.shape\n",
    "cong=r'--oem 3 --psm 6 outputbase digits'\n",
    "boxes=pytesseract.image_to_data(img,config=cong)\n",
    "for x,b in enumerate(boxes.splitlines()):\n",
    "    if x!=0:\n",
    "        b=b.split()\n",
    "        if len(b)==12:\n",
    "            x,y,w,h=int(b[6]),int(b[7]),int(b[8]),int(b[9])\n",
    "            cv2.rectangle(img,(x,y),(w+x,h+y),(0,0,255),1)\n",
    "            cv2.putText(img,b[11],(x,y),cv2.FONT_HERSHEY_COMPLEX,1,(50,50,255),2)\n",
    "cv2.imshow(\"Digit Detection\",img)\n",
    "cv2.waitKey(0)"
   ]
  },
  {
   "cell_type": "code",
   "execution_count": null,
   "id": "ccff6d0f",
   "metadata": {},
   "outputs": [],
   "source": []
  }
 ],
 "metadata": {
  "kernelspec": {
   "display_name": "Python 3 (ipykernel)",
   "language": "python",
   "name": "python3"
  },
  "language_info": {
   "codemirror_mode": {
    "name": "ipython",
    "version": 3
   },
   "file_extension": ".py",
   "mimetype": "text/x-python",
   "name": "python",
   "nbconvert_exporter": "python",
   "pygments_lexer": "ipython3",
   "version": "3.9.6"
  }
 },
 "nbformat": 4,
 "nbformat_minor": 5
}
